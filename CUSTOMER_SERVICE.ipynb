{
 "cells": [
  {
   "cell_type": "markdown",
   "metadata": {},
   "source": [
    "##DESCRIPTION\n",
    "\n",
    "You've been asked to perform data analysis of service request (311) calls from New York City.\n",
    "You've also been asked to utilize data wrangling techniques to understand the pattern in the\n",
    "data and visualize the major types of complaints.\n"
   ]
  },
  {
   "cell_type": "code",
   "execution_count": 1,
   "metadata": {},
   "outputs": [],
   "source": [
    "#IMPORTING LIBRARIES\n",
    "import pandas as pd\n",
    "import numpy as np\n",
    "import matplotlib.pyplot as plt\n",
    "%matplotlib inline\n",
    "import seaborn as sns"
   ]
  },
  {
   "cell_type": "code",
   "execution_count": 2,
   "metadata": {},
   "outputs": [
    {
     "name": "stderr",
     "output_type": "stream",
     "text": [
      "/usr/local/lib/python3.7/site-packages/IPython/core/interactiveshell.py:3063: DtypeWarning: Columns (48,49) have mixed types.Specify dtype option on import or set low_memory=False.\n",
      "  interactivity=interactivity, compiler=compiler, result=result)\n"
     ]
    }
   ],
   "source": [
    "#IMPORT DATASET\n",
    "data = pd.read_csv('311_Service_Requests_from_2010_to_Present.csv')"
   ]
  },
  {
   "cell_type": "code",
   "execution_count": 3,
   "metadata": {},
   "outputs": [
    {
     "data": {
      "text/html": [
       "<div>\n",
       "<style scoped>\n",
       "    .dataframe tbody tr th:only-of-type {\n",
       "        vertical-align: middle;\n",
       "    }\n",
       "\n",
       "    .dataframe tbody tr th {\n",
       "        vertical-align: top;\n",
       "    }\n",
       "\n",
       "    .dataframe thead th {\n",
       "        text-align: right;\n",
       "    }\n",
       "</style>\n",
       "<table border=\"1\" class=\"dataframe\">\n",
       "  <thead>\n",
       "    <tr style=\"text-align: right;\">\n",
       "      <th></th>\n",
       "      <th>Unique Key</th>\n",
       "      <th>Created Date</th>\n",
       "      <th>Closed Date</th>\n",
       "      <th>Agency</th>\n",
       "      <th>Agency Name</th>\n",
       "      <th>Complaint Type</th>\n",
       "      <th>Descriptor</th>\n",
       "      <th>Location Type</th>\n",
       "      <th>Incident Zip</th>\n",
       "      <th>Incident Address</th>\n",
       "      <th>...</th>\n",
       "      <th>Bridge Highway Name</th>\n",
       "      <th>Bridge Highway Direction</th>\n",
       "      <th>Road Ramp</th>\n",
       "      <th>Bridge Highway Segment</th>\n",
       "      <th>Garage Lot Name</th>\n",
       "      <th>Ferry Direction</th>\n",
       "      <th>Ferry Terminal Name</th>\n",
       "      <th>Latitude</th>\n",
       "      <th>Longitude</th>\n",
       "      <th>Location</th>\n",
       "    </tr>\n",
       "  </thead>\n",
       "  <tbody>\n",
       "    <tr>\n",
       "      <th>0</th>\n",
       "      <td>32310363</td>\n",
       "      <td>12/31/2015 11:59:45 PM</td>\n",
       "      <td>01-01-16 0:55</td>\n",
       "      <td>NYPD</td>\n",
       "      <td>New York City Police Department</td>\n",
       "      <td>Noise - Street/Sidewalk</td>\n",
       "      <td>Loud Music/Party</td>\n",
       "      <td>Street/Sidewalk</td>\n",
       "      <td>10034.0</td>\n",
       "      <td>71 VERMILYEA AVENUE</td>\n",
       "      <td>...</td>\n",
       "      <td>NaN</td>\n",
       "      <td>NaN</td>\n",
       "      <td>NaN</td>\n",
       "      <td>NaN</td>\n",
       "      <td>NaN</td>\n",
       "      <td>NaN</td>\n",
       "      <td>NaN</td>\n",
       "      <td>40.865682</td>\n",
       "      <td>-73.923501</td>\n",
       "      <td>(40.86568153633767, -73.92350095571744)</td>\n",
       "    </tr>\n",
       "    <tr>\n",
       "      <th>1</th>\n",
       "      <td>32309934</td>\n",
       "      <td>12/31/2015 11:59:44 PM</td>\n",
       "      <td>01-01-16 1:26</td>\n",
       "      <td>NYPD</td>\n",
       "      <td>New York City Police Department</td>\n",
       "      <td>Blocked Driveway</td>\n",
       "      <td>No Access</td>\n",
       "      <td>Street/Sidewalk</td>\n",
       "      <td>11105.0</td>\n",
       "      <td>27-07 23 AVENUE</td>\n",
       "      <td>...</td>\n",
       "      <td>NaN</td>\n",
       "      <td>NaN</td>\n",
       "      <td>NaN</td>\n",
       "      <td>NaN</td>\n",
       "      <td>NaN</td>\n",
       "      <td>NaN</td>\n",
       "      <td>NaN</td>\n",
       "      <td>40.775945</td>\n",
       "      <td>-73.915094</td>\n",
       "      <td>(40.775945312321085, -73.91509393898605)</td>\n",
       "    </tr>\n",
       "    <tr>\n",
       "      <th>2</th>\n",
       "      <td>32309159</td>\n",
       "      <td>12/31/2015 11:59:29 PM</td>\n",
       "      <td>01-01-16 4:51</td>\n",
       "      <td>NYPD</td>\n",
       "      <td>New York City Police Department</td>\n",
       "      <td>Blocked Driveway</td>\n",
       "      <td>No Access</td>\n",
       "      <td>Street/Sidewalk</td>\n",
       "      <td>10458.0</td>\n",
       "      <td>2897 VALENTINE AVENUE</td>\n",
       "      <td>...</td>\n",
       "      <td>NaN</td>\n",
       "      <td>NaN</td>\n",
       "      <td>NaN</td>\n",
       "      <td>NaN</td>\n",
       "      <td>NaN</td>\n",
       "      <td>NaN</td>\n",
       "      <td>NaN</td>\n",
       "      <td>40.870325</td>\n",
       "      <td>-73.888525</td>\n",
       "      <td>(40.870324522111424, -73.88852464418646)</td>\n",
       "    </tr>\n",
       "    <tr>\n",
       "      <th>3</th>\n",
       "      <td>32305098</td>\n",
       "      <td>12/31/2015 11:57:46 PM</td>\n",
       "      <td>01-01-16 7:43</td>\n",
       "      <td>NYPD</td>\n",
       "      <td>New York City Police Department</td>\n",
       "      <td>Illegal Parking</td>\n",
       "      <td>Commercial Overnight Parking</td>\n",
       "      <td>Street/Sidewalk</td>\n",
       "      <td>10461.0</td>\n",
       "      <td>2940 BAISLEY AVENUE</td>\n",
       "      <td>...</td>\n",
       "      <td>NaN</td>\n",
       "      <td>NaN</td>\n",
       "      <td>NaN</td>\n",
       "      <td>NaN</td>\n",
       "      <td>NaN</td>\n",
       "      <td>NaN</td>\n",
       "      <td>NaN</td>\n",
       "      <td>40.835994</td>\n",
       "      <td>-73.828379</td>\n",
       "      <td>(40.83599404683083, -73.82837939584206)</td>\n",
       "    </tr>\n",
       "    <tr>\n",
       "      <th>4</th>\n",
       "      <td>32306529</td>\n",
       "      <td>12/31/2015 11:56:58 PM</td>\n",
       "      <td>01-01-16 3:24</td>\n",
       "      <td>NYPD</td>\n",
       "      <td>New York City Police Department</td>\n",
       "      <td>Illegal Parking</td>\n",
       "      <td>Blocked Sidewalk</td>\n",
       "      <td>Street/Sidewalk</td>\n",
       "      <td>11373.0</td>\n",
       "      <td>87-14 57 ROAD</td>\n",
       "      <td>...</td>\n",
       "      <td>NaN</td>\n",
       "      <td>NaN</td>\n",
       "      <td>NaN</td>\n",
       "      <td>NaN</td>\n",
       "      <td>NaN</td>\n",
       "      <td>NaN</td>\n",
       "      <td>NaN</td>\n",
       "      <td>40.733060</td>\n",
       "      <td>-73.874170</td>\n",
       "      <td>(40.733059618956815, -73.87416975810375)</td>\n",
       "    </tr>\n",
       "  </tbody>\n",
       "</table>\n",
       "<p>5 rows × 53 columns</p>\n",
       "</div>"
      ],
      "text/plain": [
       "   Unique Key            Created Date    Closed Date Agency  \\\n",
       "0    32310363  12/31/2015 11:59:45 PM  01-01-16 0:55   NYPD   \n",
       "1    32309934  12/31/2015 11:59:44 PM  01-01-16 1:26   NYPD   \n",
       "2    32309159  12/31/2015 11:59:29 PM  01-01-16 4:51   NYPD   \n",
       "3    32305098  12/31/2015 11:57:46 PM  01-01-16 7:43   NYPD   \n",
       "4    32306529  12/31/2015 11:56:58 PM  01-01-16 3:24   NYPD   \n",
       "\n",
       "                       Agency Name           Complaint Type  \\\n",
       "0  New York City Police Department  Noise - Street/Sidewalk   \n",
       "1  New York City Police Department         Blocked Driveway   \n",
       "2  New York City Police Department         Blocked Driveway   \n",
       "3  New York City Police Department          Illegal Parking   \n",
       "4  New York City Police Department          Illegal Parking   \n",
       "\n",
       "                     Descriptor    Location Type  Incident Zip  \\\n",
       "0              Loud Music/Party  Street/Sidewalk       10034.0   \n",
       "1                     No Access  Street/Sidewalk       11105.0   \n",
       "2                     No Access  Street/Sidewalk       10458.0   \n",
       "3  Commercial Overnight Parking  Street/Sidewalk       10461.0   \n",
       "4              Blocked Sidewalk  Street/Sidewalk       11373.0   \n",
       "\n",
       "        Incident Address  ... Bridge Highway Name Bridge Highway Direction  \\\n",
       "0    71 VERMILYEA AVENUE  ...                 NaN                      NaN   \n",
       "1        27-07 23 AVENUE  ...                 NaN                      NaN   \n",
       "2  2897 VALENTINE AVENUE  ...                 NaN                      NaN   \n",
       "3    2940 BAISLEY AVENUE  ...                 NaN                      NaN   \n",
       "4          87-14 57 ROAD  ...                 NaN                      NaN   \n",
       "\n",
       "  Road Ramp Bridge Highway Segment Garage Lot Name Ferry Direction  \\\n",
       "0       NaN                    NaN             NaN             NaN   \n",
       "1       NaN                    NaN             NaN             NaN   \n",
       "2       NaN                    NaN             NaN             NaN   \n",
       "3       NaN                    NaN             NaN             NaN   \n",
       "4       NaN                    NaN             NaN             NaN   \n",
       "\n",
       "  Ferry Terminal Name   Latitude  Longitude  \\\n",
       "0                 NaN  40.865682 -73.923501   \n",
       "1                 NaN  40.775945 -73.915094   \n",
       "2                 NaN  40.870325 -73.888525   \n",
       "3                 NaN  40.835994 -73.828379   \n",
       "4                 NaN  40.733060 -73.874170   \n",
       "\n",
       "                                   Location  \n",
       "0   (40.86568153633767, -73.92350095571744)  \n",
       "1  (40.775945312321085, -73.91509393898605)  \n",
       "2  (40.870324522111424, -73.88852464418646)  \n",
       "3   (40.83599404683083, -73.82837939584206)  \n",
       "4  (40.733059618956815, -73.87416975810375)  \n",
       "\n",
       "[5 rows x 53 columns]"
      ]
     },
     "execution_count": 3,
     "metadata": {},
     "output_type": "execute_result"
    }
   ],
   "source": [
    "#printing head of dataset\n",
    "data.head()"
   ]
  },
  {
   "cell_type": "code",
   "execution_count": 4,
   "metadata": {},
   "outputs": [
    {
     "data": {
      "text/html": [
       "<div>\n",
       "<style scoped>\n",
       "    .dataframe tbody tr th:only-of-type {\n",
       "        vertical-align: middle;\n",
       "    }\n",
       "\n",
       "    .dataframe tbody tr th {\n",
       "        vertical-align: top;\n",
       "    }\n",
       "\n",
       "    .dataframe thead th {\n",
       "        text-align: right;\n",
       "    }\n",
       "</style>\n",
       "<table border=\"1\" class=\"dataframe\">\n",
       "  <thead>\n",
       "    <tr style=\"text-align: right;\">\n",
       "      <th></th>\n",
       "      <th>Unique Key</th>\n",
       "      <th>Created Date</th>\n",
       "      <th>Closed Date</th>\n",
       "      <th>Agency</th>\n",
       "      <th>Agency Name</th>\n",
       "      <th>Complaint Type</th>\n",
       "      <th>Descriptor</th>\n",
       "      <th>Location Type</th>\n",
       "      <th>Incident Zip</th>\n",
       "      <th>Incident Address</th>\n",
       "      <th>...</th>\n",
       "      <th>Bridge Highway Name</th>\n",
       "      <th>Bridge Highway Direction</th>\n",
       "      <th>Road Ramp</th>\n",
       "      <th>Bridge Highway Segment</th>\n",
       "      <th>Garage Lot Name</th>\n",
       "      <th>Ferry Direction</th>\n",
       "      <th>Ferry Terminal Name</th>\n",
       "      <th>Latitude</th>\n",
       "      <th>Longitude</th>\n",
       "      <th>Location</th>\n",
       "    </tr>\n",
       "  </thead>\n",
       "  <tbody>\n",
       "    <tr>\n",
       "      <th>300693</th>\n",
       "      <td>30281872</td>\n",
       "      <td>03/29/2015 12:33:41 AM</td>\n",
       "      <td>NaN</td>\n",
       "      <td>NYPD</td>\n",
       "      <td>New York City Police Department</td>\n",
       "      <td>Noise - Commercial</td>\n",
       "      <td>Loud Music/Party</td>\n",
       "      <td>Club/Bar/Restaurant</td>\n",
       "      <td>NaN</td>\n",
       "      <td>CRESCENT AVENUE</td>\n",
       "      <td>...</td>\n",
       "      <td>NaN</td>\n",
       "      <td>NaN</td>\n",
       "      <td>NaN</td>\n",
       "      <td>NaN</td>\n",
       "      <td>NaN</td>\n",
       "      <td>NaN</td>\n",
       "      <td>NaN</td>\n",
       "      <td>NaN</td>\n",
       "      <td>NaN</td>\n",
       "      <td>NaN</td>\n",
       "    </tr>\n",
       "    <tr>\n",
       "      <th>300694</th>\n",
       "      <td>30281230</td>\n",
       "      <td>03/29/2015 12:33:28 AM</td>\n",
       "      <td>03/29/2015 02:33:59 AM</td>\n",
       "      <td>NYPD</td>\n",
       "      <td>New York City Police Department</td>\n",
       "      <td>Blocked Driveway</td>\n",
       "      <td>Partial Access</td>\n",
       "      <td>Street/Sidewalk</td>\n",
       "      <td>11418.0</td>\n",
       "      <td>100-17 87 AVENUE</td>\n",
       "      <td>...</td>\n",
       "      <td>NaN</td>\n",
       "      <td>NaN</td>\n",
       "      <td>NaN</td>\n",
       "      <td>NaN</td>\n",
       "      <td>NaN</td>\n",
       "      <td>NaN</td>\n",
       "      <td>NaN</td>\n",
       "      <td>40.694077</td>\n",
       "      <td>-73.846087</td>\n",
       "      <td>(40.69407728322387, -73.8460866160573)</td>\n",
       "    </tr>\n",
       "    <tr>\n",
       "      <th>300695</th>\n",
       "      <td>30283424</td>\n",
       "      <td>03/29/2015 12:33:03 AM</td>\n",
       "      <td>03/29/2015 03:40:20 AM</td>\n",
       "      <td>NYPD</td>\n",
       "      <td>New York City Police Department</td>\n",
       "      <td>Noise - Commercial</td>\n",
       "      <td>Loud Music/Party</td>\n",
       "      <td>Club/Bar/Restaurant</td>\n",
       "      <td>11206.0</td>\n",
       "      <td>162 THROOP AVENUE</td>\n",
       "      <td>...</td>\n",
       "      <td>NaN</td>\n",
       "      <td>NaN</td>\n",
       "      <td>NaN</td>\n",
       "      <td>NaN</td>\n",
       "      <td>NaN</td>\n",
       "      <td>NaN</td>\n",
       "      <td>NaN</td>\n",
       "      <td>40.699590</td>\n",
       "      <td>-73.944234</td>\n",
       "      <td>(40.69959035300927, -73.94423377144169)</td>\n",
       "    </tr>\n",
       "    <tr>\n",
       "      <th>300696</th>\n",
       "      <td>30280004</td>\n",
       "      <td>03/29/2015 12:33:02 AM</td>\n",
       "      <td>03/29/2015 04:38:35 AM</td>\n",
       "      <td>NYPD</td>\n",
       "      <td>New York City Police Department</td>\n",
       "      <td>Noise - Commercial</td>\n",
       "      <td>Loud Music/Party</td>\n",
       "      <td>Club/Bar/Restaurant</td>\n",
       "      <td>10461.0</td>\n",
       "      <td>3151 EAST TREMONT AVENUE</td>\n",
       "      <td>...</td>\n",
       "      <td>NaN</td>\n",
       "      <td>NaN</td>\n",
       "      <td>NaN</td>\n",
       "      <td>NaN</td>\n",
       "      <td>NaN</td>\n",
       "      <td>NaN</td>\n",
       "      <td>NaN</td>\n",
       "      <td>40.837708</td>\n",
       "      <td>-73.834587</td>\n",
       "      <td>(40.8377075854206, -73.83458731019586)</td>\n",
       "    </tr>\n",
       "    <tr>\n",
       "      <th>300697</th>\n",
       "      <td>30281825</td>\n",
       "      <td>03/29/2015 12:33:01 AM</td>\n",
       "      <td>03/29/2015 04:41:50 AM</td>\n",
       "      <td>NYPD</td>\n",
       "      <td>New York City Police Department</td>\n",
       "      <td>Noise - Commercial</td>\n",
       "      <td>Loud Music/Party</td>\n",
       "      <td>Store/Commercial</td>\n",
       "      <td>10036.0</td>\n",
       "      <td>251 WEST 48 STREET</td>\n",
       "      <td>...</td>\n",
       "      <td>NaN</td>\n",
       "      <td>NaN</td>\n",
       "      <td>NaN</td>\n",
       "      <td>NaN</td>\n",
       "      <td>NaN</td>\n",
       "      <td>NaN</td>\n",
       "      <td>NaN</td>\n",
       "      <td>40.760583</td>\n",
       "      <td>-73.985922</td>\n",
       "      <td>(40.76058322950115, -73.98592204392392)</td>\n",
       "    </tr>\n",
       "  </tbody>\n",
       "</table>\n",
       "<p>5 rows × 53 columns</p>\n",
       "</div>"
      ],
      "text/plain": [
       "        Unique Key            Created Date             Closed Date Agency  \\\n",
       "300693    30281872  03/29/2015 12:33:41 AM                     NaN   NYPD   \n",
       "300694    30281230  03/29/2015 12:33:28 AM  03/29/2015 02:33:59 AM   NYPD   \n",
       "300695    30283424  03/29/2015 12:33:03 AM  03/29/2015 03:40:20 AM   NYPD   \n",
       "300696    30280004  03/29/2015 12:33:02 AM  03/29/2015 04:38:35 AM   NYPD   \n",
       "300697    30281825  03/29/2015 12:33:01 AM  03/29/2015 04:41:50 AM   NYPD   \n",
       "\n",
       "                            Agency Name      Complaint Type        Descriptor  \\\n",
       "300693  New York City Police Department  Noise - Commercial  Loud Music/Party   \n",
       "300694  New York City Police Department    Blocked Driveway    Partial Access   \n",
       "300695  New York City Police Department  Noise - Commercial  Loud Music/Party   \n",
       "300696  New York City Police Department  Noise - Commercial  Loud Music/Party   \n",
       "300697  New York City Police Department  Noise - Commercial  Loud Music/Party   \n",
       "\n",
       "              Location Type  Incident Zip          Incident Address  ...  \\\n",
       "300693  Club/Bar/Restaurant           NaN           CRESCENT AVENUE  ...   \n",
       "300694      Street/Sidewalk       11418.0          100-17 87 AVENUE  ...   \n",
       "300695  Club/Bar/Restaurant       11206.0         162 THROOP AVENUE  ...   \n",
       "300696  Club/Bar/Restaurant       10461.0  3151 EAST TREMONT AVENUE  ...   \n",
       "300697     Store/Commercial       10036.0        251 WEST 48 STREET  ...   \n",
       "\n",
       "       Bridge Highway Name Bridge Highway Direction Road Ramp  \\\n",
       "300693                 NaN                      NaN       NaN   \n",
       "300694                 NaN                      NaN       NaN   \n",
       "300695                 NaN                      NaN       NaN   \n",
       "300696                 NaN                      NaN       NaN   \n",
       "300697                 NaN                      NaN       NaN   \n",
       "\n",
       "       Bridge Highway Segment Garage Lot Name Ferry Direction  \\\n",
       "300693                    NaN             NaN             NaN   \n",
       "300694                    NaN             NaN             NaN   \n",
       "300695                    NaN             NaN             NaN   \n",
       "300696                    NaN             NaN             NaN   \n",
       "300697                    NaN             NaN             NaN   \n",
       "\n",
       "       Ferry Terminal Name   Latitude  Longitude  \\\n",
       "300693                 NaN        NaN        NaN   \n",
       "300694                 NaN  40.694077 -73.846087   \n",
       "300695                 NaN  40.699590 -73.944234   \n",
       "300696                 NaN  40.837708 -73.834587   \n",
       "300697                 NaN  40.760583 -73.985922   \n",
       "\n",
       "                                       Location  \n",
       "300693                                      NaN  \n",
       "300694   (40.69407728322387, -73.8460866160573)  \n",
       "300695  (40.69959035300927, -73.94423377144169)  \n",
       "300696   (40.8377075854206, -73.83458731019586)  \n",
       "300697  (40.76058322950115, -73.98592204392392)  \n",
       "\n",
       "[5 rows x 53 columns]"
      ]
     },
     "execution_count": 4,
     "metadata": {},
     "output_type": "execute_result"
    }
   ],
   "source": [
    "#printing tail of dataset\n",
    "data.tail()"
   ]
  },
  {
   "cell_type": "code",
   "execution_count": 5,
   "metadata": {},
   "outputs": [
    {
     "data": {
      "text/plain": [
       "(300698, 53)"
      ]
     },
     "execution_count": 5,
     "metadata": {},
     "output_type": "execute_result"
    }
   ],
   "source": [
    "data.shape"
   ]
  },
  {
   "cell_type": "code",
   "execution_count": 6,
   "metadata": {},
   "outputs": [],
   "source": [
    "from datetime import date,time,datetime"
   ]
  },
  {
   "cell_type": "code",
   "execution_count": 7,
   "metadata": {},
   "outputs": [],
   "source": [
    "data['Created Date'] = data['Created Date'].astype('datetime64[ns]')\n",
    "data['Closed Date'] = data['Closed Date'].astype('datetime64[ns]')"
   ]
  },
  {
   "cell_type": "code",
   "execution_count": 8,
   "metadata": {},
   "outputs": [],
   "source": [
    "data['time_diff'] = data['Closed Date']-data['Created Date']\n",
    "data['ressolution_time'] = (data['time_diff'].astype('timedelta64[s]'))/(60*60)"
   ]
  },
  {
   "cell_type": "code",
   "execution_count": 9,
   "metadata": {},
   "outputs": [
    {
     "name": "stdout",
     "output_type": "stream",
     "text": [
      "<class 'pandas.core.frame.DataFrame'>\n",
      "RangeIndex: 300698 entries, 0 to 300697\n",
      "Data columns (total 55 columns):\n",
      " #   Column                          Non-Null Count   Dtype          \n",
      "---  ------                          --------------   -----          \n",
      " 0   Unique Key                      300698 non-null  int64          \n",
      " 1   Created Date                    300698 non-null  datetime64[ns] \n",
      " 2   Closed Date                     298534 non-null  datetime64[ns] \n",
      " 3   Agency                          300698 non-null  object         \n",
      " 4   Agency Name                     300698 non-null  object         \n",
      " 5   Complaint Type                  300698 non-null  object         \n",
      " 6   Descriptor                      294784 non-null  object         \n",
      " 7   Location Type                   300567 non-null  object         \n",
      " 8   Incident Zip                    298083 non-null  float64        \n",
      " 9   Incident Address                256288 non-null  object         \n",
      " 10  Street Name                     256288 non-null  object         \n",
      " 11  Cross Street 1                  251419 non-null  object         \n",
      " 12  Cross Street 2                  250919 non-null  object         \n",
      " 13  Intersection Street 1           43858 non-null   object         \n",
      " 14  Intersection Street 2           43362 non-null   object         \n",
      " 15  Address Type                    297883 non-null  object         \n",
      " 16  City                            298084 non-null  object         \n",
      " 17  Landmark                        349 non-null     object         \n",
      " 18  Facility Type                   298527 non-null  object         \n",
      " 19  Status                          300698 non-null  object         \n",
      " 20  Due Date                        300695 non-null  object         \n",
      " 21  Resolution Description          300698 non-null  object         \n",
      " 22  Resolution Action Updated Date  298511 non-null  object         \n",
      " 23  Community Board                 300698 non-null  object         \n",
      " 24  Borough                         300698 non-null  object         \n",
      " 25  X Coordinate (State Plane)      297158 non-null  float64        \n",
      " 26  Y Coordinate (State Plane)      297158 non-null  float64        \n",
      " 27  Park Facility Name              300698 non-null  object         \n",
      " 28  Park Borough                    300698 non-null  object         \n",
      " 29  School Name                     300698 non-null  object         \n",
      " 30  School Number                   300698 non-null  object         \n",
      " 31  School Region                   300697 non-null  object         \n",
      " 32  School Code                     300697 non-null  object         \n",
      " 33  School Phone Number             300698 non-null  object         \n",
      " 34  School Address                  300698 non-null  object         \n",
      " 35  School City                     300698 non-null  object         \n",
      " 36  School State                    300698 non-null  object         \n",
      " 37  School Zip                      300697 non-null  object         \n",
      " 38  School Not Found                300698 non-null  object         \n",
      " 39  School or Citywide Complaint    0 non-null       float64        \n",
      " 40  Vehicle Type                    0 non-null       float64        \n",
      " 41  Taxi Company Borough            0 non-null       float64        \n",
      " 42  Taxi Pick Up Location           0 non-null       float64        \n",
      " 43  Bridge Highway Name             243 non-null     object         \n",
      " 44  Bridge Highway Direction        243 non-null     object         \n",
      " 45  Road Ramp                       213 non-null     object         \n",
      " 46  Bridge Highway Segment          213 non-null     object         \n",
      " 47  Garage Lot Name                 0 non-null       float64        \n",
      " 48  Ferry Direction                 1 non-null       object         \n",
      " 49  Ferry Terminal Name             2 non-null       object         \n",
      " 50  Latitude                        297158 non-null  float64        \n",
      " 51  Longitude                       297158 non-null  float64        \n",
      " 52  Location                        297158 non-null  object         \n",
      " 53  time_diff                       298534 non-null  timedelta64[ns]\n",
      " 54  ressolution_time                298534 non-null  float64        \n",
      "dtypes: datetime64[ns](2), float64(11), int64(1), object(40), timedelta64[ns](1)\n",
      "memory usage: 126.2+ MB\n"
     ]
    }
   ],
   "source": [
    "data.info()"
   ]
  },
  {
   "cell_type": "code",
   "execution_count": 10,
   "metadata": {},
   "outputs": [
    {
     "data": {
      "text/plain": [
       "Unique Key                             0\n",
       "Created Date                           0\n",
       "Closed Date                         2164\n",
       "Agency                                 0\n",
       "Agency Name                            0\n",
       "Complaint Type                         0\n",
       "Descriptor                          5914\n",
       "Location Type                        131\n",
       "Incident Zip                        2615\n",
       "Incident Address                   44410\n",
       "Street Name                        44410\n",
       "Cross Street 1                     49279\n",
       "Cross Street 2                     49779\n",
       "Intersection Street 1             256840\n",
       "Intersection Street 2             257336\n",
       "Address Type                        2815\n",
       "City                                2614\n",
       "Landmark                          300349\n",
       "Facility Type                       2171\n",
       "Status                                 0\n",
       "Due Date                               3\n",
       "Resolution Description                 0\n",
       "Resolution Action Updated Date      2187\n",
       "Community Board                        0\n",
       "Borough                                0\n",
       "X Coordinate (State Plane)          3540\n",
       "Y Coordinate (State Plane)          3540\n",
       "Park Facility Name                     0\n",
       "Park Borough                           0\n",
       "School Name                            0\n",
       "School Number                          0\n",
       "School Region                          1\n",
       "School Code                            1\n",
       "School Phone Number                    0\n",
       "School Address                         0\n",
       "School City                            0\n",
       "School State                           0\n",
       "School Zip                             1\n",
       "School Not Found                       0\n",
       "School or Citywide Complaint      300698\n",
       "Vehicle Type                      300698\n",
       "Taxi Company Borough              300698\n",
       "Taxi Pick Up Location             300698\n",
       "Bridge Highway Name               300455\n",
       "Bridge Highway Direction          300455\n",
       "Road Ramp                         300485\n",
       "Bridge Highway Segment            300485\n",
       "Garage Lot Name                   300698\n",
       "Ferry Direction                   300697\n",
       "Ferry Terminal Name               300696\n",
       "Latitude                            3540\n",
       "Longitude                           3540\n",
       "Location                            3540\n",
       "time_diff                           2164\n",
       "ressolution_time                    2164\n",
       "dtype: int64"
      ]
     },
     "execution_count": 10,
     "metadata": {},
     "output_type": "execute_result"
    }
   ],
   "source": [
    "##CHECKING FOR MISSING VALUE\n",
    "data.isnull().sum()"
   ]
  },
  {
   "cell_type": "code",
   "execution_count": 11,
   "metadata": {},
   "outputs": [
    {
     "data": {
      "text/plain": [
       "Unique Key                          0.000000\n",
       "Created Date                        0.000000\n",
       "Closed Date                         0.719659\n",
       "Agency                              0.000000\n",
       "Agency Name                         0.000000\n",
       "Complaint Type                      0.000000\n",
       "Descriptor                          1.966757\n",
       "Location Type                       0.043565\n",
       "Incident Zip                        0.869643\n",
       "Incident Address                   14.768971\n",
       "Street Name                        14.768971\n",
       "Cross Street 1                     16.388203\n",
       "Cross Street 2                     16.554483\n",
       "Intersection Street 1              85.414602\n",
       "Intersection Street 2              85.579552\n",
       "Address Type                        0.936155\n",
       "City                                0.869311\n",
       "Landmark                           99.883937\n",
       "Facility Type                       0.721987\n",
       "Status                              0.000000\n",
       "Due Date                            0.000998\n",
       "Resolution Description              0.000000\n",
       "Resolution Action Updated Date      0.727308\n",
       "Community Board                     0.000000\n",
       "Borough                             0.000000\n",
       "X Coordinate (State Plane)          1.177261\n",
       "Y Coordinate (State Plane)          1.177261\n",
       "Park Facility Name                  0.000000\n",
       "Park Borough                        0.000000\n",
       "School Name                         0.000000\n",
       "School Number                       0.000000\n",
       "School Region                       0.000333\n",
       "School Code                         0.000333\n",
       "School Phone Number                 0.000000\n",
       "School Address                      0.000000\n",
       "School City                         0.000000\n",
       "School State                        0.000000\n",
       "School Zip                          0.000333\n",
       "School Not Found                    0.000000\n",
       "School or Citywide Complaint      100.000000\n",
       "Vehicle Type                      100.000000\n",
       "Taxi Company Borough              100.000000\n",
       "Taxi Pick Up Location             100.000000\n",
       "Bridge Highway Name                99.919188\n",
       "Bridge Highway Direction           99.919188\n",
       "Road Ramp                          99.929165\n",
       "Bridge Highway Segment             99.929165\n",
       "Garage Lot Name                   100.000000\n",
       "Ferry Direction                    99.999667\n",
       "Ferry Terminal Name                99.999335\n",
       "Latitude                            1.177261\n",
       "Longitude                           1.177261\n",
       "Location                            1.177261\n",
       "time_diff                           0.719659\n",
       "ressolution_time                    0.719659\n",
       "dtype: float64"
      ]
     },
     "execution_count": 11,
     "metadata": {},
     "output_type": "execute_result"
    }
   ],
   "source": [
    "percentage_of_missing_values = (data.isna().sum(axis=0)/data.shape[0])*100 \n",
    "percentage_of_missing_values"
   ]
  },
  {
   "cell_type": "code",
   "execution_count": 12,
   "metadata": {},
   "outputs": [],
   "source": [
    "def drop_columns_with_high_missing_percentage(data, threshold):\n",
    "    \n",
    "    \n",
    "    ## Calculate the percentage of missing values in each column \n",
    "    missing_percentages = (data.isnull().sum() / len(data)) * 100\n",
    "    \n",
    "    \n",
    "   ## Identify the columns where the percentage of missing values is greater than the threshold \n",
    "    columns_to_drop = missing_percentages[missing_percentages > threshold].index\n",
    "    \n",
    "    \n",
    "    ## Drop the identified columns from the dataframe \n",
    "    data.drop(columns=columns_to_drop, inplace=True)\n",
    "    \n",
    "    \n",
    "    ## Return the modified dataframe \n",
    "    return data\n",
    "\n",
    "##Define the threshold for dropping columns \n",
    "threshold = 85\n",
    "\n",
    "data = drop_columns_with_high_missing_percentage(data, threshold)\n",
    "\n"
   ]
  },
  {
   "cell_type": "code",
   "execution_count": 13,
   "metadata": {},
   "outputs": [
    {
     "data": {
      "text/plain": [
       "(300698, 41)"
      ]
     },
     "execution_count": 13,
     "metadata": {},
     "output_type": "execute_result"
    }
   ],
   "source": [
    "data.shape"
   ]
  },
  {
   "cell_type": "code",
   "execution_count": 14,
   "metadata": {},
   "outputs": [
    {
     "data": {
      "text/plain": [
       "Cross Street 2                    16.554483\n",
       "Cross Street 1                    16.388203\n",
       "Street Name                       14.768971\n",
       "Incident Address                  14.768971\n",
       "Descriptor                         1.966757\n",
       "Location                           1.177261\n",
       "Longitude                          1.177261\n",
       "Latitude                           1.177261\n",
       "X Coordinate (State Plane)         1.177261\n",
       "Y Coordinate (State Plane)         1.177261\n",
       "Address Type                       0.936155\n",
       "Incident Zip                       0.869643\n",
       "City                               0.869311\n",
       "Resolution Action Updated Date     0.727308\n",
       "Facility Type                      0.721987\n",
       "Closed Date                        0.719659\n",
       "time_diff                          0.719659\n",
       "ressolution_time                   0.719659\n",
       "Location Type                      0.043565\n",
       "Due Date                           0.000998\n",
       "School Region                      0.000333\n",
       "School Code                        0.000333\n",
       "School Zip                         0.000333\n",
       "Complaint Type                     0.000000\n",
       "Agency Name                        0.000000\n",
       "Agency                             0.000000\n",
       "Created Date                       0.000000\n",
       "Community Board                    0.000000\n",
       "Status                             0.000000\n",
       "Resolution Description             0.000000\n",
       "Borough                            0.000000\n",
       "Park Facility Name                 0.000000\n",
       "Park Borough                       0.000000\n",
       "School Name                        0.000000\n",
       "School Number                      0.000000\n",
       "School Phone Number                0.000000\n",
       "School Address                     0.000000\n",
       "School City                        0.000000\n",
       "School State                       0.000000\n",
       "School Not Found                   0.000000\n",
       "Unique Key                         0.000000\n",
       "dtype: float64"
      ]
     },
     "execution_count": 14,
     "metadata": {},
     "output_type": "execute_result"
    }
   ],
   "source": [
    "(data.isnull().sum() / data.shape[0]*100).sort_values(ascending = False)"
   ]
  },
  {
   "cell_type": "code",
   "execution_count": 15,
   "metadata": {},
   "outputs": [],
   "source": [
    "#Removing all missing values\n",
    "data = data.dropna(axis = 0,how='any')"
   ]
  },
  {
   "cell_type": "code",
   "execution_count": 16,
   "metadata": {},
   "outputs": [
    {
     "data": {
      "text/plain": [
       "Unique Key                        0\n",
       "Created Date                      0\n",
       "Closed Date                       0\n",
       "Agency                            0\n",
       "Agency Name                       0\n",
       "Complaint Type                    0\n",
       "Descriptor                        0\n",
       "Location Type                     0\n",
       "Incident Zip                      0\n",
       "Incident Address                  0\n",
       "Street Name                       0\n",
       "Cross Street 1                    0\n",
       "Cross Street 2                    0\n",
       "Address Type                      0\n",
       "City                              0\n",
       "Facility Type                     0\n",
       "Status                            0\n",
       "Due Date                          0\n",
       "Resolution Description            0\n",
       "Resolution Action Updated Date    0\n",
       "Community Board                   0\n",
       "Borough                           0\n",
       "X Coordinate (State Plane)        0\n",
       "Y Coordinate (State Plane)        0\n",
       "Park Facility Name                0\n",
       "Park Borough                      0\n",
       "School Name                       0\n",
       "School Number                     0\n",
       "School Region                     0\n",
       "School Code                       0\n",
       "School Phone Number               0\n",
       "School Address                    0\n",
       "School City                       0\n",
       "School State                      0\n",
       "School Zip                        0\n",
       "School Not Found                  0\n",
       "Latitude                          0\n",
       "Longitude                         0\n",
       "Location                          0\n",
       "time_diff                         0\n",
       "ressolution_time                  0\n",
       "dtype: int64"
      ]
     },
     "execution_count": 16,
     "metadata": {},
     "output_type": "execute_result"
    }
   ],
   "source": [
    "data.isnull().sum()"
   ]
  },
  {
   "cell_type": "code",
   "execution_count": 17,
   "metadata": {},
   "outputs": [
    {
     "data": {
      "text/plain": [
       "(245664, 41)"
      ]
     },
     "execution_count": 17,
     "metadata": {},
     "output_type": "execute_result"
    }
   ],
   "source": [
    "data.shape"
   ]
  },
  {
   "cell_type": "code",
   "execution_count": 18,
   "metadata": {},
   "outputs": [
    {
     "data": {
      "text/plain": [
       "Index(['Unique Key', 'Created Date', 'Closed Date', 'Agency', 'Agency Name',\n",
       "       'Complaint Type', 'Descriptor', 'Location Type', 'Incident Zip',\n",
       "       'Incident Address', 'Street Name', 'Cross Street 1', 'Cross Street 2',\n",
       "       'Address Type', 'City', 'Facility Type', 'Status', 'Due Date',\n",
       "       'Resolution Description', 'Resolution Action Updated Date',\n",
       "       'Community Board', 'Borough', 'X Coordinate (State Plane)',\n",
       "       'Y Coordinate (State Plane)', 'Park Facility Name', 'Park Borough',\n",
       "       'School Name', 'School Number', 'School Region', 'School Code',\n",
       "       'School Phone Number', 'School Address', 'School City', 'School State',\n",
       "       'School Zip', 'School Not Found', 'Latitude', 'Longitude', 'Location',\n",
       "       'time_diff', 'ressolution_time'],\n",
       "      dtype='object')"
      ]
     },
     "execution_count": 18,
     "metadata": {},
     "output_type": "execute_result"
    }
   ],
   "source": [
    "# City wise complains\n",
    "data.columns\n"
   ]
  },
  {
   "cell_type": "code",
   "execution_count": 19,
   "metadata": {},
   "outputs": [
    {
     "data": {
      "text/plain": [
       "array(['NEW YORK', 'ASTORIA', 'BRONX', 'ELMHURST', 'BROOKLYN',\n",
       "       'KEW GARDENS', 'JACKSON HEIGHTS', 'MIDDLE VILLAGE', 'REGO PARK',\n",
       "       'SAINT ALBANS', 'JAMAICA', 'SOUTH RICHMOND HILL', 'RIDGEWOOD',\n",
       "       'HOWARD BEACH', 'STATEN ISLAND', 'OZONE PARK', 'FOREST HILLS',\n",
       "       'RICHMOND HILL', 'WOODHAVEN', 'FLUSHING', 'CORONA',\n",
       "       'QUEENS VILLAGE', 'OAKLAND GARDENS', 'HOLLIS', 'EAST ELMHURST',\n",
       "       'SOUTH OZONE PARK', 'WOODSIDE', 'FRESH MEADOWS', 'ROCKAWAY PARK',\n",
       "       'SPRINGFIELD GARDENS', 'MASPETH', 'BAYSIDE', 'LONG ISLAND CITY',\n",
       "       'GLEN OAKS', 'FAR ROCKAWAY', 'COLLEGE POINT', 'BELLEROSE',\n",
       "       'LITTLE NECK', 'CAMBRIA HEIGHTS', 'ROSEDALE', 'SUNNYSIDE',\n",
       "       'WHITESTONE', 'ARVERNE', 'FLORAL PARK', 'NEW HYDE PARK',\n",
       "       'BREEZY POINT', 'Astoria', 'Long Island City', 'Woodside',\n",
       "       'East Elmhurst', 'Howard Beach'], dtype=object)"
      ]
     },
     "execution_count": 19,
     "metadata": {},
     "output_type": "execute_result"
    }
   ],
   "source": [
    "data.City.unique()"
   ]
  },
  {
   "cell_type": "code",
   "execution_count": 20,
   "metadata": {},
   "outputs": [
    {
     "data": {
      "text/plain": [
       "array(['Noise - Street/Sidewalk', 'Blocked Driveway', 'Illegal Parking',\n",
       "       'Derelict Vehicle', 'Noise - Commercial',\n",
       "       'Noise - House of Worship', 'Posting Advertisement',\n",
       "       'Animal Abuse', 'Vending', 'Noise - Vehicle', 'Drinking',\n",
       "       'Traffic', 'Noise - Park', 'Graffiti', 'Disorderly Youth'],\n",
       "      dtype=object)"
      ]
     },
     "execution_count": 20,
     "metadata": {},
     "output_type": "execute_result"
    }
   ],
   "source": [
    "# DRAWING GRAPH FOR CITY WISE COMPLAIN\n",
    "\n",
    "data['Complaint Type'].unique()"
   ]
  },
  {
   "cell_type": "code",
   "execution_count": 21,
   "metadata": {},
   "outputs": [
    {
     "data": {
      "text/plain": [
       "<AxesSubplot:title={'center':'CITY-WISE COMPLAINS'}, ylabel='CITIES'>"
      ]
     },
     "execution_count": 21,
     "metadata": {},
     "output_type": "execute_result"
    },
    {
     "data": {
      "image/png": "[encoded data removed]",
      "text/plain": [
       "<Figure size 576x432 with 1 Axes>"
      ]
     },
     "metadata": {
      "needs_background": "light"
     },
     "output_type": "display_data"
    }
   ],
   "source": [
    "data['City'].value_counts().head(10).plot(kind='barh',figsize=(8,6),title='CITY-WISE COMPLAINS',ylabel='CITIES')"
   ]
  },
  {
   "cell_type": "markdown",
   "metadata": {},
   "source": [
    "### Brooklyn has maximum number of complain followed by New York and Bronx"
   ]
  },
  {
   "cell_type": "code",
   "execution_count": 22,
   "metadata": {},
   "outputs": [
    {
     "data": {
      "text/plain": [
       "<AxesSubplot:title={'center':'Complain_type'}>"
      ]
     },
     "execution_count": 22,
     "metadata": {},
     "output_type": "execute_result"
    },
    {
     "data": {
      "image/png": "[encoded data removed]",
      "text/plain": [
       "<Figure size 576x432 with 1 Axes>"
      ]
     },
     "metadata": {
      "needs_background": "light"
     },
     "output_type": "display_data"
    }
   ],
   "source": [
    "# Finding major type of complains \n",
    "\n",
    "data['Complaint Type'].value_counts().head(10).plot(kind='barh',figsize=(8,6),title='Complain_type')"
   ]
  },
  {
   "cell_type": "markdown",
   "metadata": {},
   "source": [
    "### Blocked Driveway has the maximum number of complains "
   ]
  },
  {
   "cell_type": "code",
   "execution_count": 23,
   "metadata": {},
   "outputs": [
    {
     "data": {
      "text/html": [
       "<div>\n",
       "<style scoped>\n",
       "    .dataframe tbody tr th:only-of-type {\n",
       "        vertical-align: middle;\n",
       "    }\n",
       "\n",
       "    .dataframe tbody tr th {\n",
       "        vertical-align: top;\n",
       "    }\n",
       "\n",
       "    .dataframe thead th {\n",
       "        text-align: right;\n",
       "    }\n",
       "</style>\n",
       "<table border=\"1\" class=\"dataframe\">\n",
       "  <thead>\n",
       "    <tr style=\"text-align: right;\">\n",
       "      <th>Complaint Type</th>\n",
       "      <th>Animal Abuse</th>\n",
       "      <th>Blocked Driveway</th>\n",
       "      <th>Derelict Vehicle</th>\n",
       "      <th>Disorderly Youth</th>\n",
       "      <th>Drinking</th>\n",
       "      <th>Graffiti</th>\n",
       "      <th>Illegal Parking</th>\n",
       "      <th>Noise - Commercial</th>\n",
       "      <th>Noise - House of Worship</th>\n",
       "      <th>Noise - Park</th>\n",
       "      <th>Noise - Street/Sidewalk</th>\n",
       "      <th>Noise - Vehicle</th>\n",
       "      <th>Posting Advertisement</th>\n",
       "      <th>Traffic</th>\n",
       "      <th>Vending</th>\n",
       "    </tr>\n",
       "    <tr>\n",
       "      <th>City</th>\n",
       "      <th></th>\n",
       "      <th></th>\n",
       "      <th></th>\n",
       "      <th></th>\n",
       "      <th></th>\n",
       "      <th></th>\n",
       "      <th></th>\n",
       "      <th></th>\n",
       "      <th></th>\n",
       "      <th></th>\n",
       "      <th></th>\n",
       "      <th></th>\n",
       "      <th></th>\n",
       "      <th></th>\n",
       "      <th></th>\n",
       "    </tr>\n",
       "  </thead>\n",
       "  <tbody>\n",
       "    <tr>\n",
       "      <th>ASTORIA</th>\n",
       "      <td>110</td>\n",
       "      <td>2571</td>\n",
       "      <td>279</td>\n",
       "      <td>2</td>\n",
       "      <td>27</td>\n",
       "      <td>4</td>\n",
       "      <td>885</td>\n",
       "      <td>1145</td>\n",
       "      <td>16</td>\n",
       "      <td>25</td>\n",
       "      <td>282</td>\n",
       "      <td>126</td>\n",
       "      <td>0</td>\n",
       "      <td>14</td>\n",
       "      <td>31</td>\n",
       "    </tr>\n",
       "    <tr>\n",
       "      <th>BRONX</th>\n",
       "      <td>1254</td>\n",
       "      <td>12538</td>\n",
       "      <td>1607</td>\n",
       "      <td>47</td>\n",
       "      <td>152</td>\n",
       "      <td>8</td>\n",
       "      <td>6256</td>\n",
       "      <td>2145</td>\n",
       "      <td>55</td>\n",
       "      <td>214</td>\n",
       "      <td>7371</td>\n",
       "      <td>2553</td>\n",
       "      <td>12</td>\n",
       "      <td>64</td>\n",
       "      <td>242</td>\n",
       "    </tr>\n",
       "    <tr>\n",
       "      <th>BROOKLYN</th>\n",
       "      <td>2134</td>\n",
       "      <td>27711</td>\n",
       "      <td>4425</td>\n",
       "      <td>54</td>\n",
       "      <td>203</td>\n",
       "      <td>37</td>\n",
       "      <td>23235</td>\n",
       "      <td>10528</td>\n",
       "      <td>225</td>\n",
       "      <td>449</td>\n",
       "      <td>10721</td>\n",
       "      <td>3913</td>\n",
       "      <td>39</td>\n",
       "      <td>264</td>\n",
       "      <td>259</td>\n",
       "    </tr>\n",
       "    <tr>\n",
       "      <th>CORONA</th>\n",
       "      <td>59</td>\n",
       "      <td>2727</td>\n",
       "      <td>48</td>\n",
       "      <td>3</td>\n",
       "      <td>19</td>\n",
       "      <td>2</td>\n",
       "      <td>537</td>\n",
       "      <td>226</td>\n",
       "      <td>1</td>\n",
       "      <td>8</td>\n",
       "      <td>160</td>\n",
       "      <td>79</td>\n",
       "      <td>0</td>\n",
       "      <td>4</td>\n",
       "      <td>45</td>\n",
       "    </tr>\n",
       "    <tr>\n",
       "      <th>FLUSHING</th>\n",
       "      <td>128</td>\n",
       "      <td>2741</td>\n",
       "      <td>367</td>\n",
       "      <td>1</td>\n",
       "      <td>22</td>\n",
       "      <td>4</td>\n",
       "      <td>1486</td>\n",
       "      <td>158</td>\n",
       "      <td>2</td>\n",
       "      <td>15</td>\n",
       "      <td>129</td>\n",
       "      <td>78</td>\n",
       "      <td>1</td>\n",
       "      <td>13</td>\n",
       "      <td>25</td>\n",
       "    </tr>\n",
       "    <tr>\n",
       "      <th>JAMAICA</th>\n",
       "      <td>194</td>\n",
       "      <td>2757</td>\n",
       "      <td>781</td>\n",
       "      <td>5</td>\n",
       "      <td>25</td>\n",
       "      <td>3</td>\n",
       "      <td>1031</td>\n",
       "      <td>373</td>\n",
       "      <td>10</td>\n",
       "      <td>6</td>\n",
       "      <td>240</td>\n",
       "      <td>192</td>\n",
       "      <td>7</td>\n",
       "      <td>74</td>\n",
       "      <td>8</td>\n",
       "    </tr>\n",
       "    <tr>\n",
       "      <th>NEW YORK</th>\n",
       "      <td>1023</td>\n",
       "      <td>1923</td>\n",
       "      <td>426</td>\n",
       "      <td>35</td>\n",
       "      <td>243</td>\n",
       "      <td>14</td>\n",
       "      <td>9477</td>\n",
       "      <td>13336</td>\n",
       "      <td>139</td>\n",
       "      <td>418</td>\n",
       "      <td>16097</td>\n",
       "      <td>3589</td>\n",
       "      <td>35</td>\n",
       "      <td>269</td>\n",
       "      <td>1405</td>\n",
       "    </tr>\n",
       "    <tr>\n",
       "      <th>RIDGEWOOD</th>\n",
       "      <td>103</td>\n",
       "      <td>1627</td>\n",
       "      <td>263</td>\n",
       "      <td>2</td>\n",
       "      <td>7</td>\n",
       "      <td>2</td>\n",
       "      <td>1471</td>\n",
       "      <td>368</td>\n",
       "      <td>2</td>\n",
       "      <td>4</td>\n",
       "      <td>346</td>\n",
       "      <td>159</td>\n",
       "      <td>1</td>\n",
       "      <td>13</td>\n",
       "      <td>5</td>\n",
       "    </tr>\n",
       "    <tr>\n",
       "      <th>STATEN ISLAND</th>\n",
       "      <td>524</td>\n",
       "      <td>2103</td>\n",
       "      <td>1429</td>\n",
       "      <td>18</td>\n",
       "      <td>153</td>\n",
       "      <td>2</td>\n",
       "      <td>3974</td>\n",
       "      <td>585</td>\n",
       "      <td>10</td>\n",
       "      <td>20</td>\n",
       "      <td>643</td>\n",
       "      <td>239</td>\n",
       "      <td>514</td>\n",
       "      <td>51</td>\n",
       "      <td>18</td>\n",
       "    </tr>\n",
       "    <tr>\n",
       "      <th>WOODSIDE</th>\n",
       "      <td>50</td>\n",
       "      <td>1571</td>\n",
       "      <td>172</td>\n",
       "      <td>1</td>\n",
       "      <td>8</td>\n",
       "      <td>2</td>\n",
       "      <td>654</td>\n",
       "      <td>174</td>\n",
       "      <td>1</td>\n",
       "      <td>11</td>\n",
       "      <td>221</td>\n",
       "      <td>90</td>\n",
       "      <td>0</td>\n",
       "      <td>11</td>\n",
       "      <td>7</td>\n",
       "    </tr>\n",
       "  </tbody>\n",
       "</table>\n",
       "</div>"
      ],
      "text/plain": [
       "Complaint Type  Animal Abuse  Blocked Driveway  Derelict Vehicle  \\\n",
       "City                                                               \n",
       "ASTORIA                  110              2571               279   \n",
       "BRONX                   1254             12538              1607   \n",
       "BROOKLYN                2134             27711              4425   \n",
       "CORONA                    59              2727                48   \n",
       "FLUSHING                 128              2741               367   \n",
       "JAMAICA                  194              2757               781   \n",
       "NEW YORK                1023              1923               426   \n",
       "RIDGEWOOD                103              1627               263   \n",
       "STATEN ISLAND            524              2103              1429   \n",
       "WOODSIDE                  50              1571               172   \n",
       "\n",
       "Complaint Type  Disorderly Youth  Drinking  Graffiti  Illegal Parking  \\\n",
       "City                                                                    \n",
       "ASTORIA                        2        27         4              885   \n",
       "BRONX                         47       152         8             6256   \n",
       "BROOKLYN                      54       203        37            23235   \n",
       "CORONA                         3        19         2              537   \n",
       "FLUSHING                       1        22         4             1486   \n",
       "JAMAICA                        5        25         3             1031   \n",
       "NEW YORK                      35       243        14             9477   \n",
       "RIDGEWOOD                      2         7         2             1471   \n",
       "STATEN ISLAND                 18       153         2             3974   \n",
       "WOODSIDE                       1         8         2              654   \n",
       "\n",
       "Complaint Type  Noise - Commercial  Noise - House of Worship  Noise - Park  \\\n",
       "City                                                                         \n",
       "ASTORIA                       1145                        16            25   \n",
       "BRONX                         2145                        55           214   \n",
       "BROOKLYN                     10528                       225           449   \n",
       "CORONA                         226                         1             8   \n",
       "FLUSHING                       158                         2            15   \n",
       "JAMAICA                        373                        10             6   \n",
       "NEW YORK                     13336                       139           418   \n",
       "RIDGEWOOD                      368                         2             4   \n",
       "STATEN ISLAND                  585                        10            20   \n",
       "WOODSIDE                       174                         1            11   \n",
       "\n",
       "Complaint Type  Noise - Street/Sidewalk  Noise - Vehicle  \\\n",
       "City                                                       \n",
       "ASTORIA                             282              126   \n",
       "BRONX                              7371             2553   \n",
       "BROOKLYN                          10721             3913   \n",
       "CORONA                              160               79   \n",
       "FLUSHING                            129               78   \n",
       "JAMAICA                             240              192   \n",
       "NEW YORK                          16097             3589   \n",
       "RIDGEWOOD                           346              159   \n",
       "STATEN ISLAND                       643              239   \n",
       "WOODSIDE                            221               90   \n",
       "\n",
       "Complaint Type  Posting Advertisement  Traffic  Vending  \n",
       "City                                                     \n",
       "ASTORIA                             0       14       31  \n",
       "BRONX                              12       64      242  \n",
       "BROOKLYN                           39      264      259  \n",
       "CORONA                              0        4       45  \n",
       "FLUSHING                            1       13       25  \n",
       "JAMAICA                             7       74        8  \n",
       "NEW YORK                           35      269     1405  \n",
       "RIDGEWOOD                           1       13        5  \n",
       "STATEN ISLAND                     514       51       18  \n",
       "WOODSIDE                            0       11        7  "
      ]
     },
     "execution_count": 23,
     "metadata": {},
     "output_type": "execute_result"
    }
   ],
   "source": [
    "# Display the types of complain in each city\n",
    "\n",
    "cities = data['City'].value_counts().head(10).index.to_list()\n",
    "pop_cities= data[data.City.isin(cities)]\n",
    "data_mod= pd.crosstab(pop_cities['City'],pop_cities['Complaint Type'])\n",
    "data_mod\n",
    "\n",
    "\n"
   ]
  },
  {
   "cell_type": "markdown",
   "metadata": {},
   "source": [
    "### VISUALIZATION"
   ]
  },
  {
   "cell_type": "code",
   "execution_count": 24,
   "metadata": {},
   "outputs": [
    {
     "data": {
      "text/plain": [
       "<AxesSubplot:title={'center':'City-wise_Complains'}, xlabel='count', ylabel='City'>"
      ]
     },
     "execution_count": 24,
     "metadata": {},
     "output_type": "execute_result"
    },
    {
     "data": {
      "image/png": "[encoded data removed]",
      "text/plain": [
       "<Figure size 1440x1296 with 1 Axes>"
      ]
     },
     "metadata": {
      "needs_background": "light"
     },
     "output_type": "display_data"
    }
   ],
   "source": [
    "plt.figure(figsize=(20,18))\n",
    "plt.title('City-wise_Complains')\n",
    "sns.countplot(y='City',data = data)\n"
   ]
  },
  {
   "cell_type": "code",
   "execution_count": 25,
   "metadata": {},
   "outputs": [
    {
     "data": {
      "text/plain": [
       "<AxesSubplot:title={'center':'complaint coiunt in BROOKLYN'}>"
      ]
     },
     "execution_count": 25,
     "metadata": {},
     "output_type": "execute_result"
    },
    {
     "data": {
      "image/png": "[encoded data removed]",
      "text/plain": [
       "<Figure size 432x288 with 1 Axes>"
      ]
     },
     "metadata": {
      "needs_background": "light"
     },
     "output_type": "display_data"
    }
   ],
   "source": [
    "\n",
    "data_brok = data.loc[data['Borough']=='BROOKLYN']\n",
    "data_brok['Complaint Type'].value_counts().head(10).plot(kind='bar',title='complaint coiunt in BROOKLYN')"
   ]
  },
  {
   "cell_type": "code",
   "execution_count": 28,
   "metadata": {},
   "outputs": [],
   "source": [
    "data_brooklyn = data[data['Borough']=='BROOKLYN']"
   ]
  },
  {
   "cell_type": "code",
   "execution_count": 29,
   "metadata": {},
   "outputs": [
    {
     "data": {
      "text/plain": [
       "(84197, 41)"
      ]
     },
     "execution_count": 29,
     "metadata": {},
     "output_type": "execute_result"
    }
   ],
   "source": [
    "data_brooklyn.shape"
   ]
  },
  {
   "cell_type": "code",
   "execution_count": 34,
   "metadata": {},
   "outputs": [
    {
     "data": {
      "text/plain": [
       "<AxesSubplot:title={'center':'Concentration of Complains_Brooklyn'}, xlabel='Longitude', ylabel='Latitude'>"
      ]
     },
     "execution_count": 34,
     "metadata": {},
     "output_type": "execute_result"
    },
    {
     "data": {
      "image/png": "[encoded data removed]",
      "text/plain": [
       "<Figure size 432x288 with 1 Axes>"
      ]
     },
     "metadata": {
      "needs_background": "light"
     },
     "output_type": "display_data"
    }
   ],
   "source": [
    "data_brooklyn[['Longitude','Latitude']].plot(kind='scatter',x='Longitude',y='Latitude',title = 'Concentration of Complains_Brooklyn')"
   ]
  },
  {
   "cell_type": "code",
   "execution_count": 44,
   "metadata": {},
   "outputs": [
    {
     "data": {
      "text/plain": [
       "<AxesSubplot:title={'center':'Concentration_of_Complains_Brooklyn'}, xlabel='Longitude', ylabel='Latitude'>"
      ]
     },
     "execution_count": 44,
     "metadata": {},
     "output_type": "execute_result"
    },
    {
     "data": {
      "image/png": "[encoded data removed]",
      "text/plain": [
       "<Figure size 432x288 with 2 Axes>"
      ]
     },
     "metadata": {
      "needs_background": "light"
     },
     "output_type": "display_data"
    }
   ],
   "source": [
    "data_brooklyn.plot(kind='hexbin',x='Longitude',y='Latitude',gridsize=30,colormap='jet',\n",
    "                   mincnt=1,title = 'Concentration_of_Complains_Brooklyn')"
   ]
  },
  {
   "cell_type": "code",
   "execution_count": 48,
   "metadata": {},
   "outputs": [
    {
     "data": {
      "text/plain": [
       "<AxesSubplot:xlabel='Complaint Type'>"
      ]
     },
     "execution_count": 52,
     "metadata": {},
     "output_type": "execute_result"
    },
    {
     "data": {
      "image/png": "[encoded data removed]",
      "text/plain": [
       "<Figure size 720x360 with 1 Axes>"
      ]
     },
     "metadata": {
      "needs_background": "light"
     },
     "output_type": "display_data"
    }
   ],
   "source": [
    "import matplotlib.pyplot as plt\n",
    "\n",
    "import seaborn as sns\n",
    "\n",
    "plt.rcParams[\"figure.figsize\"] = (10,5)\n",
    "\n",
    "data.groupby(\"Complaint Type\")[\"ressolution_time\"].mean().plot.bar()"
   ]
  },
  {
   "cell_type": "markdown",
   "metadata": {},
   "source": [
    "### 'Derelect Vehicle'takes maximum average time close the tickets"
   ]
  },
  {
   "cell_type": "code",
   "execution_count": 53,
   "metadata": {},
   "outputs": [
    {
     "data": {
      "text/plain": [
       "<AxesSubplot:xlabel='Location Type'>"
      ]
     },
     "execution_count": 53,
     "metadata": {},
     "output_type": "execute_result"
    },
    {
     "data": {
      "image/png": "[encoded data removed]",
      "text/plain": [
       "<Figure size 720x360 with 1 Axes>"
      ]
     },
     "metadata": {
      "needs_background": "light"
     },
     "output_type": "display_data"
    }
   ],
   "source": [
    "plt.rcParams[\"figure.figsize\"] = (10,5)\n",
    "\n",
    "data.groupby(\"Location Type\")[\"ressolution_time\"].mean().plot.bar()"
   ]
  },
  {
   "cell_type": "code",
   "execution_count": null,
   "metadata": {},
   "outputs": [],
   "source": [
    "### 'Roadway Tunnel'"
   ]
  },
  {
   "cell_type": "code",
   "execution_count": null,
   "metadata": {},
   "outputs": [],
   "source": []
  }
 ],
 "metadata": {
  "kernelspec": {
   "display_name": "Python 3",
   "language": "python",
   "name": "python3"
  },
  "language_info": {
   "codemirror_mode": {
    "name": "ipython",
    "version": 3
   },
   "file_extension": ".py",
   "mimetype": "text/x-python",
   "name": "python",
   "nbconvert_exporter": "python",
   "pygments_lexer": "ipython3",
   "version": "3.7.6"
  }
 },
 "nbformat": 4,
 "nbformat_minor": 4
}
